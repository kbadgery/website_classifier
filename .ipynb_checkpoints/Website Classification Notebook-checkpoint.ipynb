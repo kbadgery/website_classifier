{
 "cells": [
  {
   "cell_type": "markdown",
   "metadata": {},
   "source": [
    "# Abstract\n",
    "\n",
    "In this project I developed a website classification algorithm. \n",
    "\n",
    "I took a small subset of a large dataset that contained class labels for urls. Using these urls, I scraped the html from the associated websites, and used this as the input data for an NLP algorithm. I tested two algorithms, the Naive Bayes, and Support Vector Machine. After Bayesian Hyperparameter Optimization and cross validation, the best performing algorithm was the Support Vector Machine with a cross-validation accuracy of 58.1%. This algorithm went on show an accuracy of 66% on the test set.\n",
    "\n",
    "Finally I used this algorithm to classify the Coldstart files. The results of which were printed to csv. \n",
    "\n",
    "Further work to improve performance could look at using a larger subset of the dataset for algorithm development, as well as using a more sophisticated algorithm such as transfer learning with a pre-trained neural network with transformer architecture. \n",
    "\n",
    "# Strategy\n",
    "\n",
    "## Possible approaches\n",
    "\n",
    "Because the data is not labelled and I am allowed to select my own classes, I have a few options for developing a model for classifying this dataset.\n",
    "\n",
    "1) Use an unsupervised algorithm to cluster the samples, then look at these clusters and give them labels based on how I interpret them.\n",
    "\n",
    "2) Label some or all of the data myself and use a supervised or semi-supervised approach.\n",
    "\n",
    "3) Find labelled data online for an identical or similar dataset, build a classification model using this dataset, then apply it.\n",
    "\n",
    "## Selected approach\n",
    "\n",
    "Approach 1) This could work, but the clusters could end up being uninterpretable and thus not useful. \n",
    "\n",
    "Approach 2) Would be time consuming and isn't very scaleable if I needed more data for improved accuracy.\n",
    "\n",
    "Because of the above reasons, I went with approach 3). I was able to find a dataset online that contained over 1 million labelled urls. Using these urls, I could scrape the raw html, preprocess it, and feed this to a NLP classifier along with the label, and build a model that should generalize well to the Coldstart dataset.\n",
    "\n",
    "## Imports"
   ]
  },
  {
   "cell_type": "code",
   "execution_count": 2,
   "metadata": {},
   "outputs": [],
   "source": [
    "import requests\n",
    "import re\n",
    "import os\n",
    "\n",
    "import pandas as pd\n",
    "\n",
    "from bs4 import BeautifulSoup\n",
    "from tqdm import tqdm\n",
    "from collections import Counter\n",
    "import matplotlib.pyplot as plt\n",
    "from sklearn.feature_extraction.text import CountVectorizer, TfidfTransformer\n",
    "from sklearn.linear_model import SGDClassifier\n",
    "from sklearn.naive_bayes import MultinomialNB\n",
    "from sklearn.model_selection import train_test_split\n",
    "from sklearn.model_selection import KFold\n",
    "from sklearn.metrics import accuracy_score, plot_confusion_matrix\n",
    "from bayes_opt import BayesianOptimization"
   ]
  },
  {
   "cell_type": "markdown",
   "metadata": {},
   "source": [
    "## Dataset\n",
    "\n",
    "Because scraping 1 million websites would take a long time, I wrote a script that took 50 urls from each class and created a new smaller dataset. I did not include this code here, but it can be found in the file \"data_subset_generation.py\" in this repo. This smaller dataset is loaded in below."
   ]
  },
  {
   "cell_type": "code",
   "execution_count": 3,
   "metadata": {},
   "outputs": [],
   "source": [
    "labelled_url = pd.read_csv('URL classification downsampled.csv')"
   ]
  },
  {
   "cell_type": "markdown",
   "metadata": {},
   "source": [
    "# Data Pre-Processing\n",
    "\n",
    "## Generating/Scraping Data\n",
    "The html associated with a url can be scraped using python's requests library. After scraping the raw html, I use the Beautiful Soup library to parse and extract the useful content from the html file. This allows me to easily extract the text content from the page while ignoring the html syntax. I then package this text, along with the associated label, into an object from the LabelledDatapoint class created below, and repeat for each URL. By storing the data in a list of objects, it makes writing to a database very simple. One process can be created for this (writing a list of LabelledDatapoint objects to a database or other data storage location), and then additional processes for importing and converting data from other data sources into these objects can be built on top of this.\n",
    "\n",
    "Finally, I convert this data into a list of texts (\"Corpus\"), and a list of labels. "
   ]
  },
  {
   "cell_type": "code",
   "execution_count": 4,
   "metadata": {},
   "outputs": [],
   "source": [
    "# This class will be used to hold the useful contents that were parsed using Beautiful Soup.\n",
    "class LabelledDatapoint:    \n",
    "    def __init__(self, contents, label):\n",
    "        self.contents = contents\n",
    "        self.label = label\n",
    "\n",
    "def parse_html_contents(html):\n",
    "    \"\"\"\n",
    "    This function accepts the html code as a string and parses it to return the text content of the page.\n",
    "    \n",
    "    Parameters\n",
    "    ----------\n",
    "    html_file : String\n",
    "        HTML code.\n",
    "\n",
    "    Returns\n",
    "    -------\n",
    "    contents : string\n",
    "        The parsed text contents of an html file.\n",
    "    \"\"\"    \n",
    "    \n",
    "    soup = BeautifulSoup(html, 'html.parser')\n",
    "    # Add space if next character is not lowercase. For example \"HelloWorld!Hello@World\" becomes \"Hellow World ! Hello @ World\"\n",
    "    contents = ' '.join(re.split('(?=[^a-z]])', soup.text))\n",
    "    \n",
    "    return contents\n",
    "        \n",
    "def generate_labelled_datapoint(url, label):\n",
    "    \"\"\"\n",
    "    This function accepts a url and a classification label, and returns a LabelledDatapoint object.\n",
    "\n",
    "    Parameters\n",
    "    ----------\n",
    "    url : String\n",
    "        The url of the website.\n",
    "    label : String\n",
    "        Classification label for the corresponding url.\n",
    "\n",
    "    Returns\n",
    "    -------\n",
    "    LabelledDatapoint : Object\n",
    "        Returns a LabelledDatapoint object that holds the html contents and class label.\n",
    "    \"\"\"\n",
    "    \n",
    "    r = requests.get(url)\n",
    "    contents = parse_html_contents(r.text)\n",
    "    \n",
    "    return LabelledDatapoint(contents, label)"
   ]
  },
  {
   "cell_type": "code",
   "execution_count": 5,
   "metadata": {},
   "outputs": [
    {
     "name": "stderr",
     "output_type": "stream",
     "text": [
      "550it [18:42,  2.04s/it]\n"
     ]
    }
   ],
   "source": [
    "dev_dataset  = []\n",
    "bad_websites = []\n",
    "for domain, label in tqdm(zip(labelled_url['URL'],labelled_url['Category'])):\n",
    "        \n",
    "    # Some of the websites will throw errors so I wrapped in a try block to ignore. log the bad url, and keep going.\n",
    "    try: \n",
    "        dev_dataset.append(generate_labelled_datapoint(domain, label))\n",
    "    except Exception:\n",
    "        bad_websites.append(domain)\n",
    "        \n",
    "corpus = [x.contents for x in dev_dataset] # The text content of the html page.\n",
    "labels = [y.label for y in dev_dataset] # The class labels."
   ]
  },
  {
   "cell_type": "markdown",
   "metadata": {},
   "source": [
    "## Class Imbalance\n",
    "In any classification task, it is a good idea to look at the distribution of samples for each class. Unbalanced classes can lead to biases within the algorithm (e.g. Classes that appeared more frequently in the training set could cause the algorithm to bias towards that class). In some cases, this may be desirable, such as instances where the class imbalance is reflective of the true distribution of classes. If the class imbalance is not reflective of the true class frequency, it could lead to overfitting towards the overrepresented classes.\n",
    "\n",
    "In this task, it is hard to know what the true class frequency should be, therefore an even class distribution in the training data is acceptable. In the preprocessing, 50 samples per class were selected and scraped. Due to errors with some of the websites, not all samples will be used. The final class frequencies are plotted below."
   ]
  },
  {
   "cell_type": "code",
   "execution_count": 6,
   "metadata": {},
   "outputs": [
    {
     "data": {
      "image/png": "[encoded data removed]",
      "text/plain": [
       "<Figure size 432x288 with 1 Axes>"
      ]
     },
     "metadata": {
      "needs_background": "light"
     },
     "output_type": "display_data"
    }
   ],
   "source": [
    "plt.bar(*zip(*Counter(labels).items()))\n",
    "plt.xticks(rotation=40)\n",
    "plt.show()"
   ]
  },
  {
   "cell_type": "markdown",
   "metadata": {},
   "source": [
    "While the classes are not perfectly balanced, they are fairly even. Because of this, fully balancing the classes would likely have marginal benefits. If the classes were significatly more uneven, undersampling or oversampling could be a good strategy.\n",
    "\n",
    "## Preprocessing\n",
    "\n",
    "Before the html text contents can be fed to the machine learning algorithms, it must be further processed. \n",
    "\n",
    "First, I vectorize the words contained within all of the website content. This creates an array for each sample that contains the number of occurances of each word.\n",
    "\n",
    "Next, I use a TFIDF (Transform term-frequency times inverse document-frequency) transform to normalize the words within the word vectors. This type of normalizion scales words based on their frequency across all samples. This results in less emphasis being placed on words that occur frequently across all samples, as these are less likely to be useful for classification. \n",
    "\n",
    "Finally, the data is split into two sets. The training/validation set and a test set. The training/validation set will be used with k-fold cross validation for hyperparameter tuning and algorithm selection, and the test set will be used to get a performance estimate of the final model."
   ]
  },
  {
   "cell_type": "code",
   "execution_count": 7,
   "metadata": {},
   "outputs": [],
   "source": [
    "# Vectorize the counts.\n",
    "vectorizer = CountVectorizer()\n",
    "X = vectorizer.fit_transform(corpus)\n",
    "\n",
    "# Transform term-frequency times inverse document-frequency.\n",
    "tfidf_transformer = TfidfTransformer()\n",
    "X_tfidf = tfidf_transformer.fit_transform(X)\n",
    "\n",
    "# Split into a training/cross-validation set and test set.\n",
    "X_train_val, X_test, y_train_val, y_test = train_test_split(X_tfidf, \n",
    "                                                            labels, \n",
    "                                                            test_size=0.25, \n",
    "                                                            random_state=20\n",
    "                                                           )"
   ]
  },
  {
   "cell_type": "markdown",
   "metadata": {},
   "source": [
    "# Model Selection and Hyperparameter Optimization\n",
    "\n",
    "Now that the data is preprocessed, it is time to test and optimize some models. \n",
    "\n",
    "## Models to be Tested\n",
    "\n",
    "I will not be implementing any neural network architectures. From my understanding, NLP neural networks require large networks with a high number of parameters and as a result are very slow to train (especially on my computer with no dedicated GPU). Additionally, I am using a very small training set, and a large neural network architecture would likely overfit this data.\n",
    "\n",
    "Given more computing power and a larger dataset. My understanding is the approach that would result in the highest level of accuracy would be to take a large pre trained network with a transformer architecture such as XLnet, and use a transfer learning approach to tune it to this use case.\n",
    "\n",
    "Instead, I will be testing two more basic machine learning algorithms that have been succesful in the NLP Domain, the Support Vector Machine, and Naive Bayes.\n",
    "\n",
    "## Bayesian Hyperparameter Optimization\n",
    "\n",
    "In general, many machine learning algorithms have a set of hyperparameters that define how the model will perform. These hyperparameters are paramaters used in the algorithm that are not adjusted during the training process.\n",
    "\n",
    "It is often difficult to know in advance which set of hyperparameters will lead to an optimal result, particularily in more complicated models such as neural networks. Because of this, tuning these parameters often involves testing a bunch of sets of parameters and using whichever set gives the best result.\n",
    "\n",
    "Two common approaches to this are called grid search and random search. In these, you test a number of sets of parameters that exist within a hyperparameter space you define. In grid search, you search through the whole hyperparameter space, testing each point. In random search, you test a number of random samples from the hyperparameter space.\n",
    "\n",
    "While these approaches work, they are largely ineffient as they do not use previous results to inform the next set of parameters to be tested. \n",
    "\n",
    "This is where Bayesian Hyperparameter Optimization comes in. This algorithm uses the previous results to inform the next set of hyperparameters to be tested, and can help target areas of the hyperparameter space that show the most promise. It begins by randomly sampling a few sets of parameters from a predefined hyperparameter space, just like a random search. After a few iterations, it can then use the results of the these samples to create a probability distribution of predicted performance outcomes for each point in the hyperparameter space. It will then use these probability distributions to inform the next point to be chosen.\n",
    "\n",
    "Bayesian Hyperparameter Optimization is particularily useful for optimizing functions that are costly to evaluate. By using prior tests to inform future hyperparameter samples, it can save time by avoiding regions of the hyperparameter space that show little promise.\n",
    "\n",
    "## Model Evaluation\n",
    "\n",
    "Through the model evaluation and hyperparameter optimization stages I will use k-fold cross validation to evaluate the model, with accuracy being used as the metric to optimize. Accuracy is a useful metric for this type of multi-class classification because in general the classes are balanced, and we have no special interest in any one class.\n",
    "\n",
    "If it was very important to not misclassify certain classes, the sensitivity or specificity of those classes could be used as other performance metric options."
   ]
  },
  {
   "cell_type": "code",
   "execution_count": 8,
   "metadata": {},
   "outputs": [],
   "source": [
    "\"\"\"\n",
    "Because the Bayesian Optimization library only allows hyperparameters (and not training data) to be passed \n",
    "to the objective function, I declare Training/Validation globally so that it can be used within the objective function. \n",
    "\"\"\"\n",
    "global X_train_val\n",
    "global y_train_val"
   ]
  },
  {
   "cell_type": "markdown",
   "metadata": {},
   "source": [
    "## Support Vector Machine Hyperparameter Optimization"
   ]
  },
  {
   "cell_type": "code",
   "execution_count": 9,
   "metadata": {},
   "outputs": [
    {
     "name": "stdout",
     "output_type": "stream",
     "text": [
      "|   iter    |  target   | alpha_... | l1_ratio  |\n",
      "-------------------------------------------------\n",
      "| \u001b[95m 2       \u001b[0m | \u001b[95m 0.5615  \u001b[0m | \u001b[95m 3.547   \u001b[0m | \u001b[95m 0.8448  \u001b[0m |\n",
      "| \u001b[95m 10      \u001b[0m | \u001b[95m 0.5644  \u001b[0m | \u001b[95m 3.185   \u001b[0m | \u001b[95m 0.0     \u001b[0m |\n",
      "| \u001b[95m 19      \u001b[0m | \u001b[95m 0.5672  \u001b[0m | \u001b[95m 2.659   \u001b[0m | \u001b[95m 0.0     \u001b[0m |\n",
      "| \u001b[95m 21      \u001b[0m | \u001b[95m 0.5785  \u001b[0m | \u001b[95m 2.897   \u001b[0m | \u001b[95m 0.00172 \u001b[0m |\n",
      "| \u001b[95m 96      \u001b[0m | \u001b[95m 0.5813  \u001b[0m | \u001b[95m 3.005   \u001b[0m | \u001b[95m 0.04936 \u001b[0m |\n",
      "=================================================\n"
     ]
    }
   ],
   "source": [
    "def objective_function_SVM(alpha_power, l1_ratio):\n",
    "    \n",
    "    kf = KFold(n_splits=5)    \n",
    "    accuracy_list = []\n",
    "    \n",
    "    # Implementing K-fold (k=5) cross validation and using the result to inform bayesian optimizaiton.\n",
    "    for train_index, val_index in kf.split(X_train_val):\n",
    "        \n",
    "        X_train, X_val = X_train_val[train_index], X_train_val[val_index]\n",
    "        y_train = [y_train_val[x] for x in train_index]\n",
    "        y_val =  [y_train_val[y] for y in val_index]\n",
    "                \n",
    "        alpha = 0.1**alpha_power #Because we want alpha to be log-uniformly distributed. \n",
    "        \n",
    "        # Building the model, by using elasticnet we can optimize a linear combination of l1 and l2 regularization methods.\n",
    "        SVM = SGDClassifier(penalty='elasticnet',l1_ratio=l1_ratio,alpha = alpha)\n",
    "        SVM.fit(X_train, y_train)\n",
    "    \n",
    "        y_pred = SVM.predict(X_val)        \n",
    "        accuracy_list.append(accuracy_score(y_val, y_pred))\n",
    "    \n",
    "    return sum(accuracy_list)/len(accuracy_list)\n",
    "    \n",
    "# Defining the hyperparamter space, values are generated from a uniform distribution bounded by this space.\n",
    "pbounds = {'alpha_power': (1, 7), 'l1_ratio': (0,1)}\n",
    "   \n",
    "optimizer_SVM = BayesianOptimization(\n",
    "    f=objective_function_SVM,\n",
    "    pbounds=pbounds,\n",
    "    random_state=100,\n",
    "    verbose = 1\n",
    "    )\n",
    "\n",
    "# Randomly sample 3 points within hyperparameter space and then using bayesian predictions for the next 100 points.    \n",
    "optimizer_SVM.maximize(\n",
    "    init_points=3,\n",
    "    n_iter=100,\n",
    "    )"
   ]
  },
  {
   "cell_type": "markdown",
   "metadata": {},
   "source": [
    "## Naive-Bayes  Hyperparameter Optimization"
   ]
  },
  {
   "cell_type": "code",
   "execution_count": 10,
   "metadata": {},
   "outputs": [
    {
     "name": "stdout",
     "output_type": "stream",
     "text": [
      "|   iter    |  target   |   alpha   |\n",
      "-------------------------------------\n",
      "| \u001b[95m 2       \u001b[0m | \u001b[95m 0.3258  \u001b[0m | \u001b[95m 0.8351  \u001b[0m |\n",
      "| \u001b[95m 4       \u001b[0m | \u001b[95m 0.3791  \u001b[0m | \u001b[95m 0.3319  \u001b[0m |\n",
      "| \u001b[95m 7       \u001b[0m | \u001b[95m 0.4297  \u001b[0m | \u001b[95m 0.0     \u001b[0m |\n"
     ]
    },
    {
     "name": "stderr",
     "output_type": "stream",
     "text": [
      "C:\\Users\\Kip\\AppData\\Local\\Continuum\\anaconda3\\lib\\site-packages\\sklearn\\naive_bayes.py:512: UserWarning: alpha too small will result in numeric errors, setting alpha = 1.0e-10\n",
      "  'setting alpha = %.1e' % _ALPHA_MIN)\n",
      "C:\\Users\\Kip\\AppData\\Local\\Continuum\\anaconda3\\lib\\site-packages\\sklearn\\naive_bayes.py:512: UserWarning: alpha too small will result in numeric errors, setting alpha = 1.0e-10\n",
      "  'setting alpha = %.1e' % _ALPHA_MIN)\n",
      "C:\\Users\\Kip\\AppData\\Local\\Continuum\\anaconda3\\lib\\site-packages\\sklearn\\naive_bayes.py:512: UserWarning: alpha too small will result in numeric errors, setting alpha = 1.0e-10\n",
      "  'setting alpha = %.1e' % _ALPHA_MIN)\n",
      "C:\\Users\\Kip\\AppData\\Local\\Continuum\\anaconda3\\lib\\site-packages\\sklearn\\naive_bayes.py:512: UserWarning: alpha too small will result in numeric errors, setting alpha = 1.0e-10\n",
      "  'setting alpha = %.1e' % _ALPHA_MIN)\n",
      "C:\\Users\\Kip\\AppData\\Local\\Continuum\\anaconda3\\lib\\site-packages\\sklearn\\naive_bayes.py:512: UserWarning: alpha too small will result in numeric errors, setting alpha = 1.0e-10\n",
      "  'setting alpha = %.1e' % _ALPHA_MIN)\n",
      "C:\\Users\\Kip\\AppData\\Local\\Continuum\\anaconda3\\lib\\site-packages\\sklearn\\naive_bayes.py:512: UserWarning: alpha too small will result in numeric errors, setting alpha = 1.0e-10\n",
      "  'setting alpha = %.1e' % _ALPHA_MIN)\n",
      "C:\\Users\\Kip\\AppData\\Local\\Continuum\\anaconda3\\lib\\site-packages\\sklearn\\naive_bayes.py:512: UserWarning: alpha too small will result in numeric errors, setting alpha = 1.0e-10\n",
      "  'setting alpha = %.1e' % _ALPHA_MIN)\n",
      "C:\\Users\\Kip\\AppData\\Local\\Continuum\\anaconda3\\lib\\site-packages\\sklearn\\naive_bayes.py:512: UserWarning: alpha too small will result in numeric errors, setting alpha = 1.0e-10\n",
      "  'setting alpha = %.1e' % _ALPHA_MIN)\n",
      "C:\\Users\\Kip\\AppData\\Local\\Continuum\\anaconda3\\lib\\site-packages\\sklearn\\naive_bayes.py:512: UserWarning: alpha too small will result in numeric errors, setting alpha = 1.0e-10\n",
      "  'setting alpha = %.1e' % _ALPHA_MIN)\n",
      "C:\\Users\\Kip\\AppData\\Local\\Continuum\\anaconda3\\lib\\site-packages\\sklearn\\naive_bayes.py:512: UserWarning: alpha too small will result in numeric errors, setting alpha = 1.0e-10\n",
      "  'setting alpha = %.1e' % _ALPHA_MIN)\n"
     ]
    },
    {
     "name": "stdout",
     "output_type": "stream",
     "text": [
      "| \u001b[95m 29      \u001b[0m | \u001b[95m 0.4409  \u001b[0m | \u001b[95m 3.274e-0\u001b[0m |\n",
      "| \u001b[95m 33      \u001b[0m | \u001b[95m 0.5195  \u001b[0m | \u001b[95m 0.000129\u001b[0m |\n",
      "=====================================\n"
     ]
    }
   ],
   "source": [
    "def objective_function_NB(alpha):\n",
    "    \n",
    "    kf = KFold(n_splits=5)    \n",
    "    accuracy_list = [] # Holds cross-validation results for each fold.\n",
    "    \n",
    "    for train_index, val_index in kf.split(X_train_val):\n",
    "        \n",
    "        # Set train and validation data for this fold.\n",
    "        X_train, X_val = X_train_val[train_index], X_train_val[val_index]\n",
    "        y_train = [y_train_val[x] for x in train_index]\n",
    "        y_val =  [y_train_val[y] for y in val_index]\n",
    "        \n",
    "        # Create and Train Model.\n",
    "        NB = MultinomialNB(alpha = alpha)\n",
    "        NB.fit(X_train, y_train)\n",
    "        \n",
    "        # Evaluate model for this fold.\n",
    "        y_pred = NB.predict(X_val)        \n",
    "        accuracy_list.append(accuracy_score(y_val, y_pred))\n",
    "    \n",
    "    return sum(accuracy_list)/len(accuracy_list)\n",
    "\n",
    "# Defining the hyperparamter space, values are generated from a uniform distribution bounded by this space.\n",
    "pbounds = {'alpha': (0, 3)}\n",
    "   \n",
    "optimizer_NB = BayesianOptimization(\n",
    "    f=objective_function_NB,\n",
    "    pbounds=pbounds,\n",
    "    random_state=100,\n",
    "    verbose = 1\n",
    "    )\n",
    "    \n",
    "# Randomly sample 3 points within hyperparameter space and then using bayesian predictions for the next 100 points.    \n",
    "optimizer_NB.maximize(\n",
    "    init_points=3,\n",
    "    n_iter=30,\n",
    "    )"
   ]
  },
  {
   "cell_type": "code",
   "execution_count": 12,
   "metadata": {},
   "outputs": [
    {
     "name": "stdout",
     "output_type": "stream",
     "text": [
      "The best Naive Bayes result was:\n",
      "{'target': 0.5195226917057904, 'params': {'alpha': 0.0001299296651632309}}\n",
      "The best SVM result was:\n",
      "{'target': 0.5813380281690141, 'params': {'alpha_power': 3.004571244659729, 'l1_ratio': 0.04935603897263008}}\n"
     ]
    }
   ],
   "source": [
    "print(\"The best Naive Bayes result was:\")\n",
    "print(optimizer_NB.max)\n",
    "print(\"The best SVM result was:\") \n",
    "print(optimizer_SVM.max)"
   ]
  },
  {
   "cell_type": "markdown",
   "metadata": {},
   "source": [
    "# Final Model \n",
    "## Evaluating on Test Set\n",
    "\n",
    "After hyperparameter tuning, the, best model was the Support Vector Machine with alpha = 0.00099 (0.1^3.0046) and l1_ratio = 0.049. This model had a cross validation accuracy of 58.1%. This model will now be evaluated on the test set to give a final performance score, and then used on the final dataset for classification."
   ]
  },
  {
   "cell_type": "code",
   "execution_count": 13,
   "metadata": {},
   "outputs": [
    {
     "name": "stdout",
     "output_type": "stream",
     "text": [
      "The model's accuracy was 66.0% on the test set\n"
     ]
    },
    {
     "data": {
      "text/plain": [
       "<sklearn.metrics._plot.confusion_matrix.ConfusionMatrixDisplay at 0x1af9073d6c8>"
      ]
     },
     "execution_count": 13,
     "metadata": {},
     "output_type": "execute_result"
    },
    {
     "data": {
      "image/png": "[encoded data removed]",
      "text/plain": [
       "<Figure size 936x936 with 2 Axes>"
      ]
     },
     "metadata": {
      "needs_background": "light"
     },
     "output_type": "display_data"
    }
   ],
   "source": [
    "final_model = SGDClassifier(penalty=\"elasticnet\", \n",
    "                            l1_ratio=optimizer_SVM.max[\"params\"][\"l1_ratio\"],\n",
    "                            alpha = (0.1**optimizer_SVM.max[\"params\"][\"alpha_power\"])\n",
    "                            )\n",
    "final_model.fit(X_train_val, y_train_val)\n",
    "\n",
    "y_pred_test = final_model.predict(X_test)\n",
    "\n",
    "print(\"The model's accuracy was \" +  \n",
    "      str(round(100*accuracy_score(y_test, y_pred_test))) + \"% on the test set\"\n",
    "     )\n",
    "fig, ax = plt.subplots(figsize=(13, 13))\n",
    "plot_confusion_matrix(final_model,X_test,y_test, normalize='true', ax=ax)"
   ]
  },
  {
   "cell_type": "markdown",
   "metadata": {},
   "source": [
    "On the test set the model had an accuracy of 66%. Looking at the confusion matrix, the algorithm was most succesful at identifying news websites. We can also see that it was heavily biased towards health and kids websites, both seeing a high false positive rate."
   ]
  },
  {
   "cell_type": "markdown",
   "metadata": {},
   "source": [
    "## Reading Coldstart Data\n",
    "\n",
    "In general, the framework will be to store the url and text contents in an UnlabelledDatapoint object. In this case, I have defined a function that will read and process the html files in the folder of the path provided and store the url and text contents in UnlabelledDatapoint objects. Just like the labelled datapoint objects in the development stage, the list of objects allows each datapoint to remain packaged, and intermediary processes can be built and adjusted based on need. New datasources simply need processes to read and repackag data into UnlabelledDatapoint objects."
   ]
  },
  {
   "cell_type": "code",
   "execution_count": 14,
   "metadata": {},
   "outputs": [],
   "source": [
    "class UnlabelledDatapoint:    \n",
    "    def __init__(self, url, contents):\n",
    "        self.url = url\n",
    "        self.contents = contents        \n",
    "        \n",
    "def batch_HTML_scrape_from_folder(path):\n",
    "    \n",
    "    \"\"\"\n",
    "    This function accepts a local path to a folder of html files, and returns a list of UnlabelledDatapoint objects.\n",
    "\n",
    "    Parameters\n",
    "    ----------\n",
    "    path : String\n",
    "        The path to the folder of html files.\n",
    "    \n",
    "    Returns\n",
    "    -------\n",
    "    html_datapoint_list : List\n",
    "        Returns a List of UnlabelledDatapoint objects, one for each html file.\n",
    "    \"\"\"\n",
    "    \n",
    "    \n",
    "    html_datapoint_list = []        \n",
    "    \n",
    "    for filename in os.listdir(path): # Loop through all of the files in the directory.\n",
    "        \n",
    "        html = open(path + \"\\\\\" + filename, \"r\", errors='replace').read()        \n",
    "        text_contents = parse_html_contents(html)\n",
    "        \n",
    "        HTML_datapoint = UnlabelledDatapoint(filename,text_contents)            \n",
    "        html_datapoint_list.append(HTML_datapoint)    \n",
    "    \n",
    "    return html_datapoint_list\n",
    "\n",
    "html_to_classify = batch_HTML_scrape_from_folder(\"temp_data/preprod-coldstart-scraping\")\n",
    "corpus_to_classify = [x.contents for x in html_to_classify]"
   ]
  },
  {
   "cell_type": "markdown",
   "metadata": {},
   "source": [
    "Now we apply the same vectorization and normalization steps that we did with the development dataset, although this time we don't refit the word vectorizer and normalizer. Then the data is fed into the algorithm to make predictions."
   ]
  },
  {
   "cell_type": "code",
   "execution_count": 15,
   "metadata": {},
   "outputs": [],
   "source": [
    "# Vectorize the counts.\n",
    "X_cs = vectorizer.transform(corpus_to_classify)\n",
    "\n",
    "# Transform term-frequency times inverse document-frequency.\n",
    "X_tfidf_cs = tfidf_transformer.transform(X_cs)\n",
    "\n",
    "# Classifying the Coldstart Webpages.\n",
    "coldstart_pred = final_model.predict(X_tfidf_cs)"
   ]
  },
  {
   "cell_type": "markdown",
   "metadata": {},
   "source": [
    "Because there are no labels for the Coldstart data, we can't evaluate the performance, but we can look at the class frequency of the websites."
   ]
  },
  {
   "cell_type": "code",
   "execution_count": 16,
   "metadata": {},
   "outputs": [
    {
     "data": {
      "image/png": "[encoded data removed]",
      "text/plain": [
       "<Figure size 432x288 with 1 Axes>"
      ]
     },
     "metadata": {
      "needs_background": "light"
     },
     "output_type": "display_data"
    }
   ],
   "source": [
    "plt.bar(*zip(*Counter(coldstart_pred).items()))\n",
    "plt.xticks(rotation=40)\n",
    "plt.show()"
   ]
  },
  {
   "cell_type": "markdown",
   "metadata": {},
   "source": [
    "It looks like the majority of websites are home, kids, health, and news. Although because of the high false positive rate of the kids and health classes, they could likely be overrepresented above. Finally, we can push the labels and urls to a dataframe and spot check the results."
   ]
  },
  {
   "cell_type": "code",
   "execution_count": 17,
   "metadata": {
    "scrolled": true
   },
   "outputs": [
    {
     "name": "stdout",
     "output_type": "stream",
     "text": [
      "                               URL      Labels\n",
      "0                       123.hp.com  Recreation\n",
      "1                        7mesh.com  Recreation\n",
      "2   acronyms.thefreedictionary.com        Kids\n",
      "3                 adultmmogame.com      Health\n",
      "4          ageofempires.fandom.com   Reference\n",
      "5                        ai.google   Computers\n",
      "6               airflow.apache.org   Computers\n",
      "7      alphabytesoup.wordpress.com      Health\n",
      "8            alsdinternational.com   Reference\n",
      "9               alysivji.github.io      Health\n",
      "10                       anchor.fm        News\n",
      "11              andrewcmaxwell.com      Health\n",
      "12          anymail.readthedocs.io      Health\n",
      "13                   app.slack.com        Home\n",
      "14                    applique.com  Recreation\n",
      "15                   arescadon.com        News\n",
      "16                arrow.fandom.com   Reference\n",
      "17                 arstechnica.com      Health\n",
      "18           askabiologist.asu.edu        Kids\n",
      "19             atlantic.ctvnews.ca        News\n"
     ]
    }
   ],
   "source": [
    "urls = [x.url for x in html_to_classify]\n",
    "\n",
    "df_results = pd.DataFrame(\n",
    "            {'URL': urls,\n",
    "             'Labels': list(coldstart_pred)\n",
    "            })\n",
    "\n",
    "print(df_results.iloc[0:20,:])"
   ]
  },
  {
   "cell_type": "code",
   "execution_count": 18,
   "metadata": {},
   "outputs": [],
   "source": [
    "df_results.to_csv(\"Coldstart Data Labelled.csv\")"
   ]
  }
 ],
 "metadata": {
  "kernelspec": {
   "display_name": "Python 3",
   "language": "python",
   "name": "python3"
  },
  "language_info": {
   "codemirror_mode": {
    "name": "ipython",
    "version": 3
   },
   "file_extension": ".py",
   "mimetype": "text/x-python",
   "name": "python",
   "nbconvert_exporter": "python",
   "pygments_lexer": "ipython3",
   "version": "3.7.7"
  }
 },
 "nbformat": 4,
 "nbformat_minor": 4
}
